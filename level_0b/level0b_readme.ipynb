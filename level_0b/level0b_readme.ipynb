{
 "cells": [
  {
   "cell_type": "markdown",
   "metadata": {},
   "source": [
    "### Read the binary table, HDU #1"
   ]
  },
  {
   "cell_type": "code",
   "execution_count": null,
   "metadata": {},
   "outputs": [],
   "source": [
    "from astropy.io import fits\n",
    "\n",
    "# this uses the url for the file\n",
    "# but can alternatively use a local file instead\n",
    "base_url = 'https://lasp.colorado.edu/eve/data_access/eve_data/products/level0b/megs_a'\n",
    "megsa_url = f'{base_url}/2010/120/MA__L0B_4_2010120_235905_00_001_01.fit.gz'\n",
    "hdul = fits.open(megsa_url)\n",
    "\n",
    "# read the binary table in HDU #1\n",
    "for name_val_pair in zip(hdul[1].data.names, hdul[1].data[0]):\n",
    "    print(f\"{name_val_pair[0]} = {name_val_pair[1]}\")"
   ]
  },
  {
   "cell_type": "markdown",
   "metadata": {},
   "source": [
    "And peek at the header contents for the binary table HDU #1:"
   ]
  },
  {
   "cell_type": "code",
   "execution_count": null,
   "metadata": {},
   "outputs": [],
   "source": [
    "hdul[1].header"
   ]
  },
  {
   "cell_type": "markdown",
   "metadata": {},
   "source": [
    "We can also examine the contents of the header for the imaage in HDU #0:"
   ]
  },
  {
   "cell_type": "code",
   "execution_count": null,
   "metadata": {},
   "outputs": [],
   "source": [
    "hdul[0].header"
   ]
  },
  {
   "cell_type": "markdown",
   "metadata": {},
   "source": [
    "### Read and display the image (HDU #0)"
   ]
  },
  {
   "cell_type": "code",
   "execution_count": null,
   "metadata": {},
   "outputs": [],
   "source": [
    "import os\n",
    "import matplotlib.pyplot as plt\n",
    "from skimage import exposure\n",
    "from astropy.io import fits\n",
    "\n",
    "with fits.open(megsa_url) as hdul:\n",
    "    image = hdul[0].data    # the image is the first HDU\n",
    "\n",
    "# histogram equalization is helpful for viewing the features in the image\n",
    "image_eq = exposure.equalize_hist(image)            \n",
    "plt.figure(figsize=(12,6))\n",
    "plt.imshow(image_eq, cmap='gist_heat', origin='lower')\n",
    "plt.title(os.path.basename(megsa_url), fontsize=16)\n",
    "plt.show()"
   ]
  },
  {
   "cell_type": "markdown",
   "metadata": {},
   "source": [
    "<i>Figure 6: A single histogram equalized MEGS-A image with 10-second integration time. The slit 1 spectrum is dispersed across the top with short wavelengths on the right side. The bright Fe IX line at 17.1 nm is the brightest line in slit 1. Slit 2 also shows 17.1 and all of the longer wavelengths to the left. The SAM pinhole camera is in the lower right. Particle spikes and streaks are scattered across the detector.</i>"
   ]
  },
  {
   "cell_type": "markdown",
   "metadata": {},
   "source": [
    "### Read multiple files"
   ]
  },
  {
   "cell_type": "code",
   "execution_count": null,
   "metadata": {},
   "outputs": [],
   "source": [
    "import numpy as np\n",
    "import os\n",
    "from urllib.error import HTTPError\n",
    "\n",
    "# this gives us five minutes of MEGS-A L0B files\n",
    "base_url = 'https://lasp.colorado.edu/eve/data_access/eve_data/products/level0b/megs_a'\n",
    "files = [f'{base_url}/2010/120/MA__L0B_4_2010120_235{x}{y}5_00_001_01.fit.gz' for x in range(5) for y in range(5)]\n",
    "\n",
    "image_sum = np.zeros((1024,2048))       # accumulate the running sum of each image\n",
    "\n",
    "# loop over the files and add each image to the running total\n",
    "# if the file isn't found on the web, skip it\n",
    "for this_file in files: \n",
    "    try:\n",
    "        with fits.open(this_file) as hdul:\n",
    "            image_sum += hdul[0].data    # the image is the first HDU\n",
    "    except HTTPError:\n",
    "        print(f\"File not found: {os.path.basename(this_file)}\")\n",
    "        continue\n",
    "\n",
    "# display the histogram equalized sum of images\n",
    "image_sum_eq = exposure.equalize_hist(image_sum)            \n",
    "plt.figure(figsize=(12,6))\n",
    "plt.imshow(image_sum_eq, cmap='gist_heat', origin='lower')\n",
    "plt.title(\"Level 0B MEGS-A 5-minute image\", fontsize=16)\n",
    "plt.show()"
   ]
  },
  {
   "cell_type": "markdown",
   "metadata": {},
   "source": [
    "<i>Figure 7: A 5-minute sum of 10-second integrations with histogram equalization makes it easier to see the SAM image and lines transmitted through slit 2. Larger particle spikes and streaks are easily observed when viewing multiple images.</i>"
   ]
  },
  {
   "cell_type": "markdown",
   "metadata": {},
   "source": [
    "### Plot uncalibrated spectrum\n",
    "\n",
    "Use the 5-minute image from the last step to plot an uncalibrated spectrum. As noted in the IDL section, the wavelengths are not uniformly distributed and are slighly curved."
   ]
  },
  {
   "cell_type": "code",
   "execution_count": null,
   "metadata": {},
   "outputs": [],
   "source": [
    "fig, axes = plt.subplots(2, 1, figsize=(12,8))\n",
    "\n",
    "axes[0].plot(np.arange(1024)+1024, np.median(image_sum[800:808,1024:], axis=0))\n",
    "axes[1].plot(np.arange(1200), np.median(image_sum[300:308,:1200], axis=0))\n",
    "\n",
    "for i, ax in enumerate(axes):\n",
    "    ax.grid(linestyle='dotted', zorder=0, color='grey')\n",
    "    ax.set_title(f'Slit {i+1}')\n",
    "    ax.set_ylabel('Arbitrary')\n",
    "    ax.autoscale(enable=True, axis='x', tight=True)\n",
    "axes[1].set_xlabel('Pixel')\n",
    "\n",
    "plt.show()"
   ]
  },
  {
   "cell_type": "markdown",
   "metadata": {},
   "source": [
    "<i>Figure 8: Uncalibrated spectra from MEGS-A slit 1 and 2 near the centers of each slit. The vertical axis has arbitrary units, and the horizontal axis is a reversed non-linear function of wavelength. Median filtering was applied in cross-dispersion to reduce the effect of particle strikes.</i>"
   ]
  },
  {
   "cell_type": "markdown",
   "metadata": {},
   "source": [
    "### Read a MEGS-B file and display the image"
   ]
  },
  {
   "cell_type": "code",
   "execution_count": null,
   "metadata": {},
   "outputs": [],
   "source": [
    "mb_file_url = 'https://lasp.colorado.edu/eve/data_access/eve_data/products/level0b/megs_b/2010/123/MB__L0B_3_2010123_180006_00_001_01.fit.gz'\n",
    "\n",
    "with fits.open(mb_file_url) as hdul:\n",
    "    image = hdul[0].data\n",
    "\n",
    "image_eq = exposure.equalize_hist(image)\n",
    "plt.figure(figsize=(12,6))\n",
    "plt.imshow(image_eq, cmap='Blues_r', origin='lower')\n",
    "plt.title(os.path.basename(mb_file_url), fontsize=16)\n",
    "plt.show()"
   ]
  },
  {
   "cell_type": "markdown",
   "metadata": {},
   "source": [
    "<i>Figure 9: MEGS-B 10-second solar spectrum on the first rocket day, 2010 day 123, near 18:00 UTC.</i>"
   ]
  },
  {
   "cell_type": "markdown",
   "metadata": {},
   "source": [
    "More detailed information about the images and features is in the IDL section of the Level 0B readme."
   ]
  }
 ],
 "metadata": {
  "kernelspec": {
   "display_name": "this",
   "language": "python",
   "name": "python3"
  },
  "language_info": {
   "codemirror_mode": {
    "name": "ipython",
    "version": 3
   },
   "file_extension": ".py",
   "mimetype": "text/x-python",
   "name": "python",
   "nbconvert_exporter": "python",
   "pygments_lexer": "ipython3",
   "version": "3.11.5"
  }
 },
 "nbformat": 4,
 "nbformat_minor": 2
}
